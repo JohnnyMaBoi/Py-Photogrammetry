{
 "cells": [
  {
   "cell_type": "markdown",
   "metadata": {},
   "source": [
    "# Photogrammetry Pipeline\n"
   ]
  },
  {
   "cell_type": "code",
   "execution_count": 1,
   "metadata": {},
   "outputs": [],
   "source": [
    "import cv2\n",
    "import numpy as np\n",
    "import os\n",
    "import sys\n",
    "sys.path.append(\"..\") # Adds higher directory to python modules path.\n",
    "from Modules.feature_extraction import descriptors_of_folder\n",
    "dataset_path = '/home/rajiv/Github/Py-Photogrammetry/Data'"
   ]
  },
  {
   "cell_type": "code",
   "execution_count": 2,
   "metadata": {},
   "outputs": [],
   "source": [
    "%load_ext autoreload\n",
    "%autoreload 2"
   ]
  },
  {
   "cell_type": "markdown",
   "metadata": {},
   "source": [
    "## Identifying Features"
   ]
  },
  {
   "cell_type": "code",
   "execution_count": 3,
   "metadata": {},
   "outputs": [],
   "source": [
    "image = cv2.imread(os.path.join(dataset_path, os.listdir(dataset_path)[0]))\n",
    "dimensions = image.shape\n",
    "orb_keypoints, orb_descriptors = descriptors_of_folder(dataset_path, 1000)\n",
    "\n",
    "# display the keypoints of the first image in the folder\n",
    "img_keypoints = cv2.drawKeypoints(image, orb_keypoints[0], None, dimensions, flags=cv2.DRAW_MATCHES_FLAGS_DRAW_RICH_KEYPOINTS) \n",
    "\n",
    "cv2.namedWindow('keypoints', cv2.WINDOW_NORMAL)\n",
    "cv2.imshow('keypoints', img_keypoints)\n",
    "cv2.resizeWindow('keypoints', int(dimensions[1]/5), int(dimensions[0]/5))\n",
    "\n",
    "cv2.waitKey(0) # wait until keypress\n",
    "cv2.destroyAllWindows()\n"
   ]
  },
  {
   "cell_type": "code",
   "execution_count": null,
   "metadata": {},
   "outputs": [],
   "source": []
  },
  {
   "cell_type": "code",
   "execution_count": null,
   "metadata": {},
   "outputs": [],
   "source": []
  }
 ],
 "metadata": {
  "kernelspec": {
   "display_name": "Python 3",
   "language": "python",
   "name": "python3"
  },
  "language_info": {
   "codemirror_mode": {
    "name": "ipython",
    "version": 3
   },
   "file_extension": ".py",
   "mimetype": "text/x-python",
   "name": "python",
   "nbconvert_exporter": "python",
   "pygments_lexer": "ipython3",
   "version": "3.10.12"
  }
 },
 "nbformat": 4,
 "nbformat_minor": 2
}
